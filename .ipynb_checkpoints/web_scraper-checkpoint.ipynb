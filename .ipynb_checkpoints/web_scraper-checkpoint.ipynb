{
 "cells": [
  {
   "cell_type": "code",
   "execution_count": 7,
   "id": "0b6818d0",
   "metadata": {},
   "outputs": [],
   "source": [
    "import requests\n",
    "from bs4 import BeautifulSoup as soup\n",
    "import pandas as pd\n",
    "import re"
   ]
  },
  {
   "cell_type": "raw",
   "id": "4587352c",
   "metadata": {},
   "source": []
  },
  {
   "cell_type": "code",
   "execution_count": 8,
   "id": "25986585",
   "metadata": {},
   "outputs": [],
   "source": [
    "url = (\"https://www.makaan.com/bangalore-residential-property/buy-property-in-bangalore-city\")\n",
    "r = requests.get(url)"
   ]
  },
  {
   "cell_type": "code",
   "execution_count": 9,
   "id": "13341f5b",
   "metadata": {},
   "outputs": [
    {
     "data": {
      "text/plain": [
       "<Response [200]>"
      ]
     },
     "execution_count": 9,
     "metadata": {},
     "output_type": "execute_result"
    }
   ],
   "source": [
    "r"
   ]
  },
  {
   "cell_type": "code",
   "execution_count": 10,
   "id": "b160c6e0",
   "metadata": {},
   "outputs": [
    {
     "data": {
      "text/plain": [
       "'<!doctype html> <html lang=\"en\"><head><meta http-equiv=\"Content-type\" content=\"text/html; charset=utf-8\"><title>Property for Sale in Bangalore | 41198+ Bangalore Properties for sale</title><meta name=\"description\" content=\"Find 41198+ Properties for sale in Bangalore on Makaan.com. Search &#10003;5985+ Houses/Villas for sale. &#10003;6468+ New Projects. &#10003;23925+ Apartments for sale. Book Now !\"><meta name=\"keywords\" content=\"Buy Bangalore Properties, Residential Property for sale in Bangalore, Property for sale in Bangalore, Bangalore Property Sale\"><meta name=\"theme-color\" content=\"#fff\" id=\"themeColor\"><meta content=\"origin\" name=\"referrer\"><meta name=\"p:domain_verify\" content=\"55ce01b3ca93c05fd5a41439a23dd0d9\"><meta name=\"fb:pages\" content=\"155462194517712\"><meta name=\"country\" content=\"India\"><meta name=\"og:type\" content=\"website\"><meta name=\"og:site_name\" content=\"Makaan.com\"><meta name=\"og:image:url\" content=\"http://static.makaan.com/6/2/355/7975867.jpeg\"><meta name=\"og:title\" content=\"Property for Sale in Bangalore | 41198+ Bangalore Properties for sale\"><meta name=\"googlebot\" content=\"all\"><meta name=\"og:description\" content=\"Find 41198+ Properties for sale in Bangalore on Makaan.com. Search &#10003;5985+ Houses/Villas for sale. &#10003;6468+ New Projects. &#10003;23925+ Apartments for sale. Book Now !\"><meta name=\"og:image:secure_url\" content=\"https://static.makaan.com/6/2/355/7975867.jpeg\"><meta name=\"viewport\" content=\"minimum-scale=1.0, width=device-width, initial-scale=1.0, maximum-scale=5.0\"><meta name=\"Author\" content=\"Makaan.com\"><meta name=\"robots\" content=\"index, follow\"><meta name=\"og:url\" content=\"https://www.makaan.com/bangalore-residential-property/buy-property-in-bangalore-city\"><link rel=\"preload\" href=\"//static.makaan.com/scripts/vendor/require.min.js\" as=\"script\"><link rel=\"preload\" href=\"//static.makaan.com/scripts/main.276ba55f.js\" as=\"script\"><link rel=\"preload\" href=\"//static.makaan.com/scripts/infra.a7ac1784.js\" as=\"script\"><link'"
      ]
     },
     "execution_count": 10,
     "metadata": {},
     "output_type": "execute_result"
    }
   ],
   "source": [
    "r.text[:2000]"
   ]
  },
  {
   "cell_type": "code",
   "execution_count": null,
   "id": "2455fd53",
   "metadata": {},
   "outputs": [],
   "source": []
  }
 ],
 "metadata": {
  "kernelspec": {
   "display_name": "Python 3",
   "language": "python",
   "name": "python3"
  },
  "language_info": {
   "codemirror_mode": {
    "name": "ipython",
    "version": 3
   },
   "file_extension": ".py",
   "mimetype": "text/x-python",
   "name": "python",
   "nbconvert_exporter": "python",
   "pygments_lexer": "ipython3",
   "version": "3.7.1"
  }
 },
 "nbformat": 4,
 "nbformat_minor": 5
}
