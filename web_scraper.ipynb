{
 "cells": [
  {
   "cell_type": "code",
   "execution_count": 2,
   "id": "0b6818d0",
   "metadata": {},
   "outputs": [],
   "source": [
    "import requests\n",
    "from bs4 import BeautifulSoup as soup\n",
    "import pandas as pd\n",
    "import re"
   ]
  },
  {
   "cell_type": "raw",
   "id": "4587352c",
   "metadata": {},
   "source": []
  },
  {
   "cell_type": "code",
   "execution_count": 3,
   "id": "25986585",
   "metadata": {},
   "outputs": [],
   "source": [
    "url = (\"https://www.makaan.com/bangalore-residential-property/buy-property-in-bangalore-city\")\n",
    "r = requests.get(url)"
   ]
  },
  {
   "cell_type": "code",
   "execution_count": 4,
   "id": "13341f5b",
   "metadata": {},
   "outputs": [
    {
     "data": {
      "text/plain": [
       "<Response [200]>"
      ]
     },
     "execution_count": 4,
     "metadata": {},
     "output_type": "execute_result"
    }
   ],
   "source": [
    "r"
   ]
  },
  {
   "cell_type": "code",
   "execution_count": 5,
   "id": "b160c6e0",
   "metadata": {},
   "outputs": [
    {
     "data": {
      "text/plain": [
       "'<!doctype html> <html lang=\"en\"><head><meta http-equiv=\"Content-type\" content=\"text/html; charset=utf-8\"><title>Property for Sale in Bangalore | 40806+ Bangalore Properties for sale</title><meta name=\"description\" content=\"Find 40806+ Properties for sale in Bangalore on Makaan.com. Search &#10003;5900+ Houses/Villas for sale. &#10003;6357+ New Projects. &#10003;23695+ Apartments for sale. Book Now !\"><meta name=\"keywords\" content=\"Buy Bangalore Properties, Residential Property for sale in Bangalore, Property for sale in Bangalore, Bangalore Property Sale\"><meta name=\"theme-color\" content=\"#fff\" id=\"themeColor\"><meta content=\"origin\" name=\"referrer\"><meta name=\"p:domain_verify\" content=\"55ce01b3ca93c05fd5a41439a23dd0d9\"><meta name=\"fb:pages\" content=\"155462194517712\"><meta name=\"country\" content=\"India\"><meta name=\"og:type\" content=\"website\"><meta name=\"og:site_name\" content=\"Makaan.com\"><meta name=\"og:image:url\" content=\"http://static.makaan.com/6/2/355/7975867.jpeg\"><meta name=\"og:title\" content=\"Property for Sale in Bangalore | 40806+ Bangalore Properties for sale\"><meta name=\"googlebot\" content=\"all\"><meta name=\"og:description\" content=\"Find 40806+ Properties for sale in Bangalore on Makaan.com. Search &#10003;5900+ Houses/Villas for sale. &#10003;6357+ New Projects. &#10003;23695+ Apartments for sale. Book Now !\"><meta name=\"og:image:secure_url\" content=\"https://static.makaan.com/6/2/355/7975867.jpeg\"><meta name=\"viewport\" content=\"minimum-scale=1.0, width=device-width, initial-scale=1.0, maximum-scale=5.0\"><meta name=\"Author\" content=\"Makaan.com\"><meta name=\"robots\" content=\"index, follow\"><meta name=\"og:url\" content=\"https://www.makaan.com/bangalore-residential-property/buy-property-in-bangalore-city\"><link rel=\"preload\" href=\"//static.makaan.com/scripts/vendor/require.min.js\" as=\"script\"><link rel=\"preload\" href=\"//static.makaan.com/scripts/main.276ba55f.js\" as=\"script\"><link rel=\"preload\" href=\"//static.makaan.com/scripts/infra.a7ac1784.js\" as=\"script\"><link rel=\"preload\" href=\"//static.makaan.com/scripts/dependency/commonBundle.dab78bf4.js\" as=\"script\"><link rel=\"preload\" href=\"//static.makaan.com/scripts/app.1842c5d0.js\" as=\"script\"><link rel=\"amphtml\" href=\"https://www.makaan.com/lite/bangalore-residential-property/buy-property-in-bangalore-city\"><meta name=\"twitter:card\" content=\"summary\"><meta name=\"twitter:site\" content=\"@Makaan\"><meta name=\"twitter:creator\" content=\"@Makaan\"><meta itemprop=\"name\" content=\"Makaan\"><meta itemprop=\"description\" content=\"Find 40806+ Properties for sale in Bangalore on Makaan.com. Search &amp;#10003;5900+ Houses/Villas for sale. &amp;#10003;6357+ New Projects. &amp;#10003;23695+ Apartments for sale. Book Now !\"><meta itemprop=\"image\" content=\"http://static.makaan.com/6/2/355/7975867.jpeg\"><link rel=\"apple-touch-icon-precomposed\" sizes=\"180x180\" href=\"//static.makaan.com/apple-touch-icon-precomposed.png\"><link rel=\"apple-touch-icon-precomposed\" sizes=\"152x152\" href=\"//static.makaan.com/apple-touch-icon-152x152-precomposed.png\"><link rel=\"apple-touch-icon-precomposed\" sizes=\"120x120\" href=\"//static.makaan.com/apple-touch-icon-120x120-precomposed.png\"><link rel=\"apple-touch-icon-precomposed\" sizes=\"76x76\" href=\"//static.makaan.com/apple-touch-icon-76x76-precomposed.png\"><link rel=\"apple-touch-icon-precomposed\" sizes=\"72x72\" href=\"//static.makaan.com/apple-touch-icon-72x72-precomposed.png\"><link rel=\"shortcut icon\" href=\"//static.makaan.com/apple-touch-icon.png\"><link href=\"//content.makaan.com\" rel=\"preconnect\"><link href=\"//www.google-analytics.com\" rel=\"preconnect\"><link href=\"//static.makaan.com\" rel=\"preconnect\"><link href=\"//static.makaan.com\" rel=\"preconnect\"><link href=\"https://www.makaan.com/bangalore-residential-property/buy-property-in-bangalore-city\" rel=\"canonical\"><link rel=\"alternate\" hreflang=\"en\" href=\"https://www.makaan.com/bangalore-residential-property/buy-property-in-bangalore-city\"><link rel=\"alternate\" hreflang=\"hi\" href=\"https://www.makaan.com/hi-in/bangalore-residential-property/buy-property-in-bangalore-city\"><link href=\"https://www.makaan.com/bangalore-residential-property/buy-property-in-bangalore-city?page=2\" rel=\"next\"><link rel=\"preload\" href=\"//static.makaan.com/fonts/icomoon.ce5604b1.woff2\" as=\"font\" type=\"font/woff2\" crossorigin><style>\\n.multiloclity-search-wrap .tag-wrap .srched-tag.no-close-tag:hover .close,.txtbtn.disabled,a.btn.disabled,fieldset[disabled] a.btn{pointer-events:none}body,figure{margin:0}hr,legend{margin-bottom:20px}html{font-family:sans-serif;-ms-text-size-adjust:100%;-webkit-text-size-adjust:100%}article,aside,details,figcaption,figure,footer,header,hgroup,main,menu,nav,section,summary{display:block}audio,canvas,progress,video{display:inline-block;vertical-align:baseline}audio:not([controls]){display:none;height:0}[hidden],template{display:none}a{background-color:transparent;color:#337ab7;text-decoration:none}.img-thumbnail,body{background-color:#fff}a:active,a:hover{outline:0}b,strong{font-weight:700}h1{font-size:'"
      ]
     },
     "execution_count": 5,
     "metadata": {},
     "output_type": "execute_result"
    }
   ],
   "source": [
    "r.text[:5000]"
   ]
  },
  {
   "cell_type": "code",
   "execution_count": 7,
   "id": "2455fd53",
   "metadata": {},
   "outputs": [
    {
     "data": {
      "text/plain": [
       "<li class=\"cardholder\" data-cardholder=\"\"><div class=\"cardWrapper\" data-listing-id=\"13932091\" data-listing-projectid=\"1937821\" data-module=\"listing\" data-track-scroll=\"1\"><script type=\"text/x-config\">{\"selector\":\"listing_13932091\",\"sellerType\":\"BUILDER\",\"builderId\":1603758,\"builderName\":\"Ishtika Homes\",\"companyType\":\"BUILDER\",\"companyId\":100221204,\"companyUserId\":102326771,\"backgroundColor\":\"#ddede6\",\"textColor\":\"#fff\",\"nameText\":\"I\",\"companyName\":\"ISHTIKA HOMES\",\"companyRating\":0,\"verificationDate\":1620671400000,\"serverTime\":1621531234773,\"listingUrl\":\"https://www.makaan.com/bangalore/ishtika-homes-agastya-in-dasarahalli-on-tumkur-road-13932091/2bhk-1060-sqft-apartment\",\"imageUrl\":\"https://static.makaan.com/1/1937821/297/agastya-images-for-project-109118000.jpeg?width=460&amp;height=260\",\"id\":13932091,\"propertyId\":13125305,\"projectId\":1937821,\"projectName\":\"Agastya\",\"projectStatus\":\"Under Construction\",\"mainImageId\":\"\",\"imageCount\":10,\"latitude\":13.05821991,\"longitude\":77.48162079,\"localityName\":\"Dasarahalli on Tumkur Road\",\"suburbName\":\"Bangalore West\",\"cityName\":\"Bangalore\",\"fullName\":\"Ishtika Agastya\",\"localityUrl\":\"https://www.makaan.com/bangalore/dasarahalli-on-tumkur-road-real-estate-56697\",\"rank\":1,\"price\":5093487,\"unitTypeId\":1,\"propertyType\":\"Apartment\",\"bedrooms\":2,\"isPlot\":false,\"isApartment\":true,\"localityId\":56697,\"suburbId\":10010,\"cityId\":2,\"listingScore\":4,\"listingCategory\":\"Primary\",\"isCommercial\":\"\",\"size\":\"1,060 sq ft\",\"isRk\":false,\"isPentHouse\":false,\"isStudio\":false,\"defaultImageId\":\"\",\"sellerCallRatingCount\":0,\"sellerCompanyFeedbackCount\":0,\"isAccountLocked\":false,\"isPaidSeller\":false,\"sellerTransactionStatus\":{\"isExpertDealMaker\":false,\"isDealMaker\":false,\"typeLabel\":\"\"},\"isOriginalSearchResult\":true,\"isMakaanSelectSeller\":false,\"mainImageWidth\":2500,\"mainImageHeight\":1457,\"leadType\":\"unpaid\",\"reraInfo\":\"reraRegistered\",\"isMPMatchTagListing\":\"false\",\"listingDomain\":\"housing\"}</script><div class=\"cardLayout clearfix\" data-type=\"listing-card\" itemid=\"https://www.makaan.com/bangalore/ishtika-homes-agastya-in-dasarahalli-on-tumkur-road-13932091/2bhk-1060-sqft-apartment\" itemref=\"itemNameFor-13932091\" itemscope=\"\" itemtype=\"http://schema.org/Apartment\"><meta content=\"https://www.makaan.com/bangalore/ishtika-homes-agastya-in-dasarahalli-on-tumkur-road-13932091/2bhk-1060-sqft-apartment\" itemprop=\"url\"/><div itemprop=\"geo\" itemscope=\"\" itemtype=\"http://schema.org/GeoCoordinates\"><meta content=\"13.05821991\" itemprop=\"latitude\"/><meta content=\"77.48162079\" itemprop=\"longitude\"/></div><meta content=\"2\" itemprop=\"numberOfRooms\"/><meta content=\"It has a built-up area of 1060 sqft and is priced at Rs. 50.93 lac . The house is unfurnished. It has cctv as well as water supply. The project also has landscaped gardens, club house, sports facility...\" data-p9ignore=\"true\" itemprop=\"description\"/><div class=\"imgWrap dummy-placeholder\"><div class=\"img-slide gallerywrap\"><div class=\"gallerywrap\" data-lazymodule=\"carousel\" data-loadon=\"afterLoad\" data-type=\"image-div\" id=\"carousel-13932091\"><script type=\"text/x-config\">{\"id\":13932091,\"dataAwaited\": true,\"isMobile\": false}</script><span class=\"img-ldr\"><i class=\"icon-reset\"><span class=\"path1\"></span><span class=\"path2\"></span><span class=\"path3\"></span><span class=\"path4\"></span></i></span><div class=\"btn-prev js-showOnHover hide\" data-type=\"back-btn\"> <i class=\"icon-chevron-left\"></i></div><div class=\"btn-next js-showOnHover hide\" data-type=\"next-btn\"> <i class=\"icon-chevron-right\"></i></div><div class=\"gallimgcntnr clearfix\" data-container=\"image-gallery\"><div class=\"img-slide\" data-index=\"0\"><figure><meta content=\"https://static.makaan.com/1/1937821/297/agastya-images-for-project-109118000.jpeg?width=460&amp;height=260\" id=\"itemImageFor-13932091\" itemprop=\"image\"/><img alt=\" agastya Images for Project\" data-src=\"https://static.makaan.com/1/1937821/297/agastya-images-for-project-109118000.jpeg?width=460&amp;height=260\" height=\"260\" src=\"//static.makaan.com/images/dummyPX.e679fbd4.png\" title=\"Images for Project\"/></figure></div></div><div class=\"dot-container\"><div class=\"dots\" style=\"width: 65px\"><span class=\"dot active\"></span><span class=\"dot\"></span><span class=\"dot\"></span><span class=\"dot\"></span><span class=\"dot\"></span><span class=\"dot\"></span></div></div></div></div><div class=\"badge-wrap\"><div class=\"newBadge hide\" data-js-seen=\"13932091\">new</div></div><div class=\"seller-row\" itemprop=\"potentialAction\" itemscope=\"\" itemtype=\"http://schema.org/BuyAction\"><div class=\"seller-wrap clearfix\" data-type=\"seller-listings\" itemprop=\"agent\" itemscope=\"\" itemtype=\"http://schema.org/Person\"><div class=\"slr-img\"><div class=\"seller-img-box\" style=\"background-color: #ddede6\"><span class=\"initial\" style=\"color:#fff;\">I</span><span class=\"highlighter-badge\"></span></div></div><div class=\"seller-info\"><a class=\"seller-name\" data-builderview=\"false\" data-isclickable=\"true\" data-link-name=\"ISHTIKA HOMES (BUILDER)\" data-link-type=\"serp BUILDER\" data-sellerview=\"false\" data-type=\"seller-profile\" href=\"https://www.makaan.com/ishtika-homes-profile-100221204\" target=\"_blank\" title=\"ISHTIKA HOMES\"><span itemprop=\"name\">ISHTIKA HOMES</span></a><div class=\"second-line\"><span class=\"seller-type\">BUILDER</span></div><div class=\"review-rating-wrap\"><div class=\"rating\" data-lazymodule=\"sellerRating\" data-sellerrating=\"0\">0</div></div></div></div></div></div><div class=\"infoWrap\" itemprop=\"event\" itemref=\"itemImageFor-13932091\" itemscope=\"\" itemtype=\"http://schema.org/Event\"><div class=\"title-line-wrap\"><div class=\"title-line\"><a class=\"typelink\" data-type=\"listing-link\" href=\"https://www.makaan.com/bangalore/ishtika-homes-agastya-in-dasarahalli-on-tumkur-road-13932091/2bhk-1060-sqft-apartment\" itemprop=\"url\" target=\"_blank\"><meta content=\"2 BHK Apartment for sale\" id=\"itemNameFor-13932091\" itemprop=\"name\"/><strong><span class=\"val\">2 </span><span>BHK </span><span>Apartment</span></strong></a><span class=\"project-wrap\"> in <strong><a class=\"projName\" data-link-name=\"Ishtika Agastya\" data-link-type=\"project overview\" data-track-label=\"13932091_1_1937821_select\" data-type=\"projName\" href=\"https://www.makaan.com/bangalore/ishtika-homes-agastya-in-dasarahalli-on-tumkur-road-1937821\" target=\"_blank\" title=\"Go to Ishtika Agastya\"><span>Ishtika Agastya</span></a></strong></span><div class=\"rera-tag-new\" title=\"Rera Approved Project\"><img alt=\"Rera Approved Project\" src=\"//static.makaan.com/images/un-versioned/rera-tag.svg\"/></div></div><div style=\"width:100%\"><div class=\"locWrap\" itemprop=\"location\" itemscope=\"\" itemtype=\"http://schema.org/Place\" style=\"width:60%;float:left\"><span><span itemprop=\"address\" itemscope=\"\" itemtype=\"http://schema.org/PostalAddress\" title=\"Buy property in Dasarahalli on Tumkur Road Bangalore\"><span class=\"locName\"><a class=\"loclink\" data-link-name=\"Dasarahalli on Tumkur Road Bangalore\" data-link-type=\"locality buy serp\" data-type=\"localityName\" href=\"https://www.makaan.com/bangalore-property/dasarahalli-on-tumkur-road-flats-for-sale-56697\" itemprop=\"url\" target=\"_blank\"><span itemprop=\"addressLocality\"><strong>Dasarahalli on Tumkur Road</strong></span>, <span class=\"cityName\" itemprop=\"addressRegion\">Bangalore</span></a></span></span></span></div></div></div><table class=\"listing-highlights\"><thead><tr><td colspan=\"2\">Specifications</td></tr></thead><tbody><tr class=\"chevron-wrap\" title=\"see this property details\"><td colspan=\"2\"><i class=\"icon-link\"></i></td></tr><tr class=\"hcol\"><td class=\"price\"><div data-type=\"price-link\"><sup class=\"rupee currency\"> </sup><span class=\"val\" itemprop=\"offers\" itemscope=\"\" itemtype=\"http://schema.org/Offer\"><meta content=\"https://www.makaan.com/bangalore/ishtika-homes-agastya-in-dasarahalli-on-tumkur-road-13932091/2bhk-1060-sqft-apartment\" itemprop=\"url\"/><meta content=\"5093487 \" itemprop=\"price\"/><meta content=\"INR\" itemprop=\"priceCurrency\"/>50.93</span><span class=\"unit\"> L</span></div></td><td class=\"lbl rate\">4,805 / sq ft</td></tr><tr class=\"hcol\"><td class=\"size\"><span class=\"val\">1060 </span></td><td class=\"lbl\">Area in sq ft</td></tr><tr class=\"hcol w44\"><td class=\"val\">Under Construction</td><td class=\"lbl\">Construction Status</td></tr></tbody></table><meta content=\"2021-05-10T20:12:13.000Z\" itemprop=\"startDate\"/><ul class=\"listing-details\"><li class=\"keypoint\" title=\"Possession by\"><span><strong><span>Possession by May 2021</span></strong></span></li><li class=\"keypoint\"><span>New </span></li></ul><div class=\"listing-description\" data-p9ignore=\"true\"><div class=\"txt\"><h3 class=\"seo-hdng\" title=\"2 BHK Property for Sale in Dasarahalli on Tumkur Road Bangalore\"><span>2 BHK Property for Sale in Dasarahalli on Tumkur Road Bangalore</span>:</h3>It has a built-up area of 1060 sqft and is priced at Rs. 50.93 lac . The house is unfurnished. It has cctv as well as water supply. The project also has landscaped gardens, club house, sports facility...<strong class=\"seo-hdng\">Developed by <a href=\"https://www.makaan.com/ishtika-homes-1603758-bhbyl\">Ishtika Homes</a></strong></div><a class=\"linktoprop\" data-type=\"read-more\">More</a></div><div class=\"btn-wrap\"><div class=\"btn-icons\"><span class=\"favbtn serpfavd\" data-id=\"13932091\" data-lazymodule=\"shortlist\" data-type=\"fav-btn\" id=\"shortlist-13932091\" title=\"shortlist this property\"><script type=\"text/x-config\">{\"listingId\":13932091,\"dataAwaited\": true}</script><i class=\"icon-makaan\"></i><i class=\"icon-makaanfill\"></i></span><span class=\"serpShare shareitem\" data-type=\"social-share\" data-url=\"https://www.makaan.com/bangalore/ishtika-homes-agastya-in-dasarahalli-on-tumkur-road-13932091/2bhk-1060-sqft-apartment\" title=\"share\"><i class=\"icon-share\"></i></span></div><div class=\"callwrap\"><a class=\"txtbtn\" data-call-now=\"\" data-step=\"VIEW_PHONE_MORPHED\" data-type=\"openLeadFormViewPhone\">View Phone</a><a class=\"cbtn cbtn-p\" data-call-now=\"\" data-type=\"openLeadForm\"> Connect Now</a></div></div></div></div></div></li>"
      ]
     },
     "execution_count": 7,
     "metadata": {},
     "output_type": "execute_result"
    }
   ],
   "source": [
    "data = soup(r.text)\n",
    "house = data.find_all(\"li\", class_=\"cardholder\")\n",
    "first = house[0]\n",
    "first"
   ]
  },
  {
   "cell_type": "code",
   "execution_count": 9,
   "id": "594bc856",
   "metadata": {},
   "outputs": [
    {
     "data": {
      "text/plain": [
       "' 50.93 L'"
      ]
     },
     "execution_count": 9,
     "metadata": {},
     "output_type": "execute_result"
    }
   ],
   "source": [
    "price_first = first.find_all(\"td\", class_=\"price\")[0].text\n",
    "price_first"
   ]
  },
  {
   "cell_type": "code",
   "execution_count": 59,
   "id": "46a44f85",
   "metadata": {},
   "outputs": [],
   "source": [
    "title=[]\n",
    "location=[]\n",
    "area=[]\n",
    "builder=[]\n",
    "status=[]\n",
    "price=[]"
   ]
  },
  {
   "cell_type": "code",
   "execution_count": 63,
   "id": "6ae6145e",
   "metadata": {},
   "outputs": [],
   "source": [
    "# let n be the number of pages you want to scrape\n",
    "n=0\n",
    "# starting from page 3 to 100 (url changes as per the page number from the third page)\n",
    "for currPage in range(3,10):\n",
    "    currPage=currPage+1\n",
    "    url='https://www.makaan.com/bangalore-residential-property/buy-property-in-bangalore-city?page='+str(currPage)\n",
    "    response=requests.get(url)\n",
    "    page=soup(response.text, 'html.parser')\n",
    "    # this will fetch all the info we need of a particular house in house_data\n",
    "    house_data=data.find_all(\"li\", class_=\"cardholder\")\n",
    "    \n",
    "    # now for every element of house_data, we find the properties\n",
    "    for house in house_data:\n",
    "        typeOfHouse=house.find_all(\"a\", class_=\"typelink\")\n",
    "        for i in typeOfHouse:\n",
    "            x=i.text\n",
    "            title.append(x)\n",
    "            \n",
    "            \n",
    "            \n",
    "        loc=house.find_all(\"a\", class_=\"loclink\")\n",
    "        for i in loc:\n",
    "            x=i.text\n",
    "            x=x.split(',',)[0] # to get rid of \"Bangalore\" at the end of each location name\n",
    "            location.append(x)\n",
    "        \n",
    "        \n",
    "        \n",
    "        area_sqft=house.find_all(\"td\", class_=\"size\")\n",
    "        for i in area_sqft:\n",
    "            x=i.text\n",
    "            area.append(x)\n",
    "            \n",
    "        \n",
    "        b=house.find_all(\"a\", class_=\"seller-name\")\n",
    "        for i in b:\n",
    "            x=i.text\n",
    "            builder.append(x)\n",
    "            \n",
    "        \n",
    "        \n",
    "        s=house.find_all(\"td\", class_=\"val\")\n",
    "        for i in s:\n",
    "            x=i.text\n",
    "            status.append(x)\n",
    "            \n",
    "            \n",
    "        \n",
    "\n",
    "            \n",
    "            \n",
    "    \n",
    "    \n",
    "    \n",
    "    "
   ]
  },
  {
   "cell_type": "code",
   "execution_count": 64,
   "id": "28baad8f",
   "metadata": {},
   "outputs": [
    {
     "data": {
      "text/plain": [
       "[50.93,\n",
       " 109.00000000000001,\n",
       " 43.45,\n",
       " 67.33,\n",
       " 115.99999999999999,\n",
       " 36.0,\n",
       " 256.0,\n",
       " 148.0,\n",
       " 67.05,\n",
       " 39.95,\n",
       " 63.32,\n",
       " 73.12,\n",
       " 152.0,\n",
       " 80.85,\n",
       " 115.99999999999999,\n",
       " 75.62,\n",
       " 32.53,\n",
       " 71.48,\n",
       " 130.0,\n",
       " 50.93,\n",
       " 109.00000000000001,\n",
       " 43.45,\n",
       " 67.33,\n",
       " 115.99999999999999,\n",
       " 36.0,\n",
       " 256.0,\n",
       " 148.0,\n",
       " 67.05,\n",
       " 39.95,\n",
       " 63.32,\n",
       " 73.12,\n",
       " 152.0,\n",
       " 80.85,\n",
       " 115.99999999999999,\n",
       " 75.62,\n",
       " 32.53,\n",
       " 71.48,\n",
       " 130.0,\n",
       " 50.93,\n",
       " 109.00000000000001,\n",
       " 43.45,\n",
       " 67.33,\n",
       " 115.99999999999999,\n",
       " 36.0,\n",
       " 256.0,\n",
       " 148.0,\n",
       " 67.05,\n",
       " 39.95,\n",
       " 63.32,\n",
       " 73.12,\n",
       " 152.0,\n",
       " 80.85,\n",
       " 115.99999999999999,\n",
       " 75.62,\n",
       " 32.53,\n",
       " 71.48,\n",
       " 130.0,\n",
       " 50.93,\n",
       " 109.00000000000001,\n",
       " 43.45,\n",
       " 67.33,\n",
       " 115.99999999999999,\n",
       " 36.0,\n",
       " 256.0,\n",
       " 148.0,\n",
       " 67.05,\n",
       " 39.95,\n",
       " 63.32,\n",
       " 73.12,\n",
       " 152.0,\n",
       " 80.85,\n",
       " 115.99999999999999,\n",
       " 75.62,\n",
       " 32.53,\n",
       " 71.48,\n",
       " 130.0,\n",
       " 50.93,\n",
       " 109.00000000000001,\n",
       " 43.45,\n",
       " 67.33,\n",
       " 115.99999999999999,\n",
       " 36.0,\n",
       " 256.0,\n",
       " 148.0,\n",
       " 67.05,\n",
       " 39.95,\n",
       " 63.32,\n",
       " 73.12,\n",
       " 152.0,\n",
       " 80.85,\n",
       " 115.99999999999999,\n",
       " 75.62,\n",
       " 32.53,\n",
       " 71.48,\n",
       " 130.0,\n",
       " 50.93,\n",
       " 109.00000000000001,\n",
       " 43.45,\n",
       " 67.33,\n",
       " 115.99999999999999,\n",
       " 36.0,\n",
       " 256.0,\n",
       " 148.0,\n",
       " 67.05,\n",
       " 39.95,\n",
       " 63.32,\n",
       " 73.12,\n",
       " 152.0,\n",
       " 80.85,\n",
       " 115.99999999999999,\n",
       " 75.62,\n",
       " 32.53,\n",
       " 71.48,\n",
       " 130.0,\n",
       " 50.93,\n",
       " 109.00000000000001,\n",
       " 43.45,\n",
       " 67.33,\n",
       " 115.99999999999999,\n",
       " 36.0,\n",
       " 256.0,\n",
       " 148.0,\n",
       " 67.05,\n",
       " 39.95,\n",
       " 63.32,\n",
       " 73.12,\n",
       " 152.0,\n",
       " 80.85,\n",
       " 115.99999999999999,\n",
       " 75.62,\n",
       " 32.53,\n",
       " 71.48,\n",
       " 130.0]"
      ]
     },
     "execution_count": 64,
     "metadata": {},
     "output_type": "execute_result"
    }
   ],
   "source": []
  },
  {
   "cell_type": "code",
   "execution_count": null,
   "id": "96e3ad68",
   "metadata": {},
   "outputs": [],
   "source": []
  }
 ],
 "metadata": {
  "kernelspec": {
   "display_name": "Python 3",
   "language": "python",
   "name": "python3"
  },
  "language_info": {
   "codemirror_mode": {
    "name": "ipython",
    "version": 3
   },
   "file_extension": ".py",
   "mimetype": "text/x-python",
   "name": "python",
   "nbconvert_exporter": "python",
   "pygments_lexer": "ipython3",
   "version": "3.7.1"
  }
 },
 "nbformat": 4,
 "nbformat_minor": 5
}
