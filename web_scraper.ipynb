{
 "cells": [
  {
   "cell_type": "code",
   "execution_count": 132,
   "id": "0b6818d0",
   "metadata": {},
   "outputs": [],
   "source": [
    "import requests\n",
    "from bs4 import BeautifulSoup as soup\n",
    "import pandas as pd\n",
    "import re"
   ]
  },
  {
   "cell_type": "code",
   "execution_count": 133,
   "id": "25986585",
   "metadata": {},
   "outputs": [],
   "source": [
    "url_demo = (\"https://www.makaan.com/bangalore-residential-property/buy-property-in-bangalore-city\")\n",
    "r = requests.get(url_demo)"
   ]
  },
  {
   "cell_type": "code",
   "execution_count": 134,
   "id": "13341f5b",
   "metadata": {},
   "outputs": [
    {
     "data": {
      "text/plain": [
       "<Response [200]>"
      ]
     },
     "execution_count": 134,
     "metadata": {},
     "output_type": "execute_result"
    }
   ],
   "source": [
    "r"
   ]
  },
  {
   "cell_type": "code",
   "execution_count": 135,
   "id": "b160c6e0",
   "metadata": {},
   "outputs": [
    {
     "data": {
      "text/plain": [
       "'<!doctype html> <html lang=\"en\"><head><meta http-equiv=\"Content-type\" content=\"text/html; charset=utf-8\"><title>Property for Sale in Bangalore | 40477+ Bangalore Properties for sale</title><meta name=\"description\" content=\"Find 40477+ Properties for sale in Bangalore on Makaan.com. Search &#10003;5997+ Houses/Villas for sale. &#10003;5909+ New Projects. &#10003;23189+ Apartments for sale. Book Now !\"><meta name=\"keywords\" content=\"Buy Bangalore Properties, Residential Property for sale in Bangalore, Property for sale in Bangalore, Bangalore Property Sale\"><meta name=\"theme-color\" content=\"#fff\" id=\"themeColor\"><meta content=\"origin\" name=\"referrer\"><meta name=\"p:domain_verify\" content=\"55ce01b3ca93c05fd5a41439a23dd0d9\"><meta name=\"fb:pages\" content=\"155462194517712\"><meta name=\"country\" content=\"India\"><meta name=\"og:type\" content=\"website\"><meta name=\"og:site_name\" content=\"Makaan.com\"><meta name=\"og:image:url\" content=\"http://static.makaan.com/6/2/355/7975867.jpeg\"><meta name=\"og:title\" content=\"Property for Sale in Bangalore | 40477+ Bangalore Properties for sale\"><meta name=\"googlebot\" content=\"all\"><meta name=\"og:description\" content=\"Find 40477+ Properties for sale in Bangalore on Makaan.com. Search &#10003;5997+ Houses/Villas for sale. &#10003;5909+ New Projects. &#10003;23189+ Apartments for sale. Book Now !\"><meta name=\"og:image:secure_url\" content=\"https://static.makaan.com/6/2/355/7975867.jpeg\"><meta name=\"viewport\" content=\"minimum-scale=1.0, width=device-width, initial-scale=1.0, maximum-scale=5.0\"><meta name=\"Author\" content=\"Makaan.com\"><meta name=\"robots\" content=\"index, follow\"><meta name=\"og:url\" content=\"https://www.makaan.com/bangalore-residential-property/buy-property-in-bangalore-city\"><link rel=\"preload\" href=\"//static.makaan.com/scripts/vendor/require.min.js\" as=\"script\"><link rel=\"preload\" href=\"//static.makaan.com/scripts/main.276ba55f.js\" as=\"script\"><link rel=\"preload\" href=\"//static.makaan.com/scripts/infra.a7ac1784.js\" as=\"script\"><link rel=\"preload\" href=\"//static.makaan.com/scripts/dependency/commonBundle.dab78bf4.js\" as=\"script\"><link rel=\"preload\" href=\"//static.makaan.com/scripts/app.1842c5d0.js\" as=\"script\"><link rel=\"amphtml\" href=\"https://www.makaan.com/lite/bangalore-residential-property/buy-property-in-bangalore-city\"><meta name=\"twitter:card\" content=\"summary\"><meta name=\"twitter:site\" content=\"@Makaan\"><meta name=\"twitter:creator\" content=\"@Makaan\"><meta itemprop=\"name\" content=\"Makaan\"><meta itemprop=\"description\" content=\"Find 40477+ Properties for sale in Bangalore on Makaan.com. Search &amp;#10003;5997+ Houses/Villas for sale. &amp;#10003;5909+ New Projects. &amp;#10003;23189+ Apartments for sale. Book Now !\"><meta itemprop=\"image\" content=\"http://static.makaan.com/6/2/355/7975867.jpeg\"><link rel=\"apple-touch-icon-precomposed\" sizes=\"180x180\" href=\"//static.makaan.com/apple-touch-icon-precomposed.png\"><link rel=\"apple-touch-icon-precomposed\" sizes=\"152x152\" href=\"//static.makaan.com/apple-touch-icon-152x152-precomposed.png\"><link rel=\"apple-touch-icon-precomposed\" sizes=\"120x120\" href=\"//static.makaan.com/apple-touch-icon-120x120-precomposed.png\"><link rel=\"apple-touch-icon-precomposed\" sizes=\"76x76\" href=\"//static.makaan.com/apple-touch-icon-76x76-precomposed.png\"><link rel=\"apple-touch-icon-precomposed\" sizes=\"72x72\" href=\"//static.makaan.com/apple-touch-icon-72x72-precomposed.png\"><link rel=\"shortcut icon\" href=\"//static.makaan.com/apple-touch-icon.png\"><link href=\"//content.makaan.com\" rel=\"preconnect\"><link href=\"//www.google-analytics.com\" rel=\"preconnect\"><link href=\"//static.makaan.com\" rel=\"preconnect\"><link href=\"//static.makaan.com\" rel=\"preconnect\"><link href=\"https://www.makaan.com/bangalore-residential-property/buy-property-in-bangalore-city\" rel=\"canonical\"><link rel=\"alternate\" hreflang=\"en\" href=\"https://www.makaan.com/bangalore-residential-property/buy-property-in-bangalore-city\"><link rel=\"alternate\" hreflang=\"hi\" href=\"https://www.makaan.com/hi-in/bangalore-residential-property/buy-property-in-bangalore-city\"><link href=\"https://www.makaan.com/bangalore-residential-property/buy-property-in-bangalore-city?page=2\" rel=\"next\"><link rel=\"preload\" href=\"//static.makaan.com/fonts/icomoon.ce5604b1.woff2\" as=\"font\" type=\"font/woff2\" crossorigin><style>\\n.multiloclity-search-wrap .tag-wrap .srched-tag.no-close-tag:hover .close,.txtbtn.disabled,a.btn.disabled,fieldset[disabled] a.btn{pointer-events:none}body,figure{margin:0}hr,legend{margin-bottom:20px}html{font-family:sans-serif;-ms-text-size-adjust:100%;-webkit-text-size-adjust:100%}article,aside,details,figcaption,figure,footer,header,hgroup,main,menu,nav,section,summary{display:block}audio,canvas,progress,video{display:inline-block;vertical-align:baseline}audio:not([controls]){display:none;height:0}[hidden],template{display:none}a{background-color:transparent;color:#337ab7;text-decoration:none}.img-thumbnail,body{background-color:#fff}a:active,a:hover{outline:0}b,strong{font-weight:700}h1{font-size:'"
      ]
     },
     "execution_count": 135,
     "metadata": {},
     "output_type": "execute_result"
    }
   ],
   "source": [
    "r.text[:5000]"
   ]
  },
  {
   "cell_type": "code",
   "execution_count": 136,
   "id": "2455fd53",
   "metadata": {},
   "outputs": [
    {
     "data": {
      "text/plain": [
       "<li class=\"cardholder\" data-cardholder=\"\"><div class=\"cardWrapper\" data-listing-id=\"14173469\" data-listing-projectid=\"1999926\" data-module=\"listing\" data-track-scroll=\"1\"><script type=\"text/x-config\">{\"selector\":\"listing_14173469\",\"sellerType\":\"BUILDER\",\"builderId\":102855,\"builderName\":\"RBD Shelters\",\"companyType\":\"BUILDER\",\"companyId\":1919379,\"companyUserId\":17347357,\"backgroundColor\":\"#e2dded\",\"textColor\":\"#fff\",\"nameText\":\"R\",\"companyName\":\"RBD Shelters\",\"companyRating\":0,\"verificationDate\":1622658600000,\"serverTime\":1622718102148,\"listingUrl\":\"https://www.makaan.com/bangalore/rbd-shelters-meadows-1-in-anekal-city-14173469/835-sqft-plot\",\"imageUrl\":\"https://static.makaan.com/1/1999926/291/meadows-1-landscaped-gardens-107195857.jpeg?width=460&amp;height=260\",\"id\":14173469,\"propertyId\":12710337,\"projectId\":1999926,\"projectName\":\"Meadows 1\",\"projectStatus\":\"Under Construction\",\"mainImageId\":\"\",\"imageCount\":14,\"latitude\":12.74709225,\"longitude\":77.71852112,\"localityName\":\"Anekal City\",\"suburbName\":\"Bangalore South\",\"cityName\":\"Bangalore\",\"fullName\":\"RBD Meadows 1\",\"localityUrl\":\"https://www.makaan.com/bangalore/anekal-city-real-estate-50359\",\"rank\":1,\"price\":1500495,\"unitTypeId\":3,\"propertyType\":\"Residential Plot\",\"bedrooms\":\"\",\"isPlot\":true,\"isApartment\":false,\"localityId\":50359,\"suburbId\":10011,\"cityId\":2,\"listingScore\":4,\"listingCategory\":\"Primary\",\"isCommercial\":\"\",\"size\":\"835 sq ft\",\"isRk\":false,\"isPentHouse\":false,\"isStudio\":false,\"defaultImageId\":\"\",\"sellerCallRatingCount\":0,\"sellerCompanyFeedbackCount\":0,\"isAccountLocked\":false,\"isPaidSeller\":false,\"sellerTransactionStatus\":{\"isExpertDealMaker\":false,\"isDealMaker\":false,\"typeLabel\":\"\"},\"isOriginalSearchResult\":true,\"isMakaanSelectSeller\":false,\"mainImageWidth\":1200,\"mainImageHeight\":900,\"leadType\":\"paid\",\"reraInfo\":\"reraRegistered\",\"isMPMatchTagListing\":\"false\",\"listingDomain\":\"housing\"}</script><div class=\"cardLayout clearfix\" data-type=\"listing-card\" itemid=\"https://www.makaan.com/bangalore/rbd-shelters-meadows-1-in-anekal-city-14173469/835-sqft-plot\" itemref=\"itemNameFor-14173469\" itemscope=\"\" itemtype=\"http://schema.org/SingleFamilyResidence\"><meta content=\"https://www.makaan.com/bangalore/rbd-shelters-meadows-1-in-anekal-city-14173469/835-sqft-plot\" itemprop=\"url\"/><div itemprop=\"geo\" itemscope=\"\" itemtype=\"http://schema.org/GeoCoordinates\"><meta content=\"12.74709225\" itemprop=\"latitude\"/><meta content=\"77.71852112\" itemprop=\"longitude\"/></div><meta content=\"This plot is situated in RBD Shelters Meadows 1, Anekal City, Bangalore. It has an area of 835 sqft and is priced at Rs. 15.00 lac . The time you'll spend here will become the greatest moment of your ...\" data-p9ignore=\"true\" itemprop=\"description\"/><div class=\"imgWrap dummy-placeholder\"><div class=\"img-slide gallerywrap\"><div class=\"gallerywrap\" data-lazymodule=\"carousel\" data-loadon=\"afterLoad\" data-type=\"image-div\" id=\"carousel-14173469\"><script type=\"text/x-config\">{\"id\":14173469,\"dataAwaited\": true,\"isMobile\": false}</script><span class=\"img-ldr\"><i class=\"icon-reset\"><span class=\"path1\"></span><span class=\"path2\"></span><span class=\"path3\"></span><span class=\"path4\"></span></i></span><div class=\"btn-prev js-showOnHover hide\" data-type=\"back-btn\"> <i class=\"icon-chevron-left\"></i></div><div class=\"btn-next js-showOnHover hide\" data-type=\"next-btn\"> <i class=\"icon-chevron-right\"></i></div><div class=\"gallimgcntnr clearfix\" data-container=\"image-gallery\"><div class=\"img-slide\" data-index=\"0\"><figure><meta content=\"https://static.makaan.com/1/1999926/291/meadows-1-landscaped-gardens-107195857.jpeg?width=460&amp;height=260\" id=\"itemImageFor-14173469\" itemprop=\"image\"/><img alt=\" meadows-1 Landscaped Gardens\" data-src=\"https://static.makaan.com/1/1999926/291/meadows-1-landscaped-gardens-107195857.jpeg?width=460&amp;height=260\" height=\"260\" src=\"//static.makaan.com/images/dummyPX.e679fbd4.png\" title=\"Landscaped Gardens\"/></figure></div></div><div class=\"dot-container\"><div class=\"dots\" style=\"width: 65px\"><span class=\"dot active\"></span><span class=\"dot\"></span><span class=\"dot\"></span><span class=\"dot\"></span><span class=\"dot\"></span><span class=\"dot\"></span></div></div></div></div><div class=\"badge-wrap\"><div class=\"newBadge hide\" data-js-seen=\"14173469\">new</div></div><div class=\"seller-row\" itemprop=\"potentialAction\" itemscope=\"\" itemtype=\"http://schema.org/BuyAction\"><div class=\"seller-wrap clearfix\" data-type=\"seller-listings\" itemprop=\"agent\" itemscope=\"\" itemtype=\"http://schema.org/Person\"><div class=\"slr-img\"><div class=\"seller-img-box\" style=\"background-color: #e2dded\"><span class=\"initial\" style=\"color:#fff;\">R</span><span class=\"highlighter-badge\"></span></div></div><div class=\"seller-info\"><a class=\"seller-name\" data-builderview=\"false\" data-isclickable=\"true\" data-link-name=\"RBD Shelters (BUILDER)\" data-link-type=\"serp BUILDER\" data-sellerview=\"false\" data-type=\"seller-profile\" href=\"https://www.makaan.com/rbd-shelters-profile-1919379\" target=\"_blank\" title=\"RBD Shelters\"><span itemprop=\"name\">RBD Shelters</span></a><div class=\"second-line\"><span class=\"seller-type\">BUILDER</span></div><div class=\"review-rating-wrap\"><div class=\"rating\" data-lazymodule=\"sellerRating\" data-sellerrating=\"0\">0</div></div></div></div></div></div><div class=\"infoWrap\" itemprop=\"event\" itemref=\"itemImageFor-14173469\" itemscope=\"\" itemtype=\"http://schema.org/Event\"><div class=\"title-line-wrap\"><div class=\"title-line\"><a class=\"typelink\" data-type=\"listing-link\" href=\"https://www.makaan.com/bangalore/rbd-shelters-meadows-1-in-anekal-city-14173469/835-sqft-plot\" itemprop=\"url\" target=\"_blank\"><meta content=\"Residential Plot for sale\" id=\"itemNameFor-14173469\" itemprop=\"name\"/><strong><span>Residential Plot</span></strong></a><span class=\"project-wrap\"> in <strong><a class=\"projName\" data-link-name=\"RBD Meadows 1\" data-link-type=\"project overview\" data-track-label=\"14173469_1_1999926_select\" data-type=\"projName\" href=\"https://www.makaan.com/bangalore/rbd-shelters-meadows-1-in-anekal-city-1999926\" target=\"_blank\" title=\"Go to RBD Meadows 1\"><span>RBD Meadows 1</span></a></strong></span><div class=\"rera-tag-new\" title=\"Rera Approved Project\"><img alt=\"Rera Approved Project\" src=\"//static.makaan.com/images/un-versioned/rera-tag.svg\"/></div></div><div style=\"width:100%\"><div class=\"locWrap\" itemprop=\"location\" itemscope=\"\" itemtype=\"http://schema.org/Place\" style=\"width:60%;float:left\"><span><span itemprop=\"address\" itemscope=\"\" itemtype=\"http://schema.org/PostalAddress\" title=\"Buy property in Anekal City Bangalore\"><span class=\"locName\"><a class=\"loclink\" data-link-name=\"Anekal City Bangalore\" data-link-type=\"locality buy serp\" data-type=\"localityName\" href=\"https://www.makaan.com/bangalore-property/anekal-city-flats-for-sale-50359\" itemprop=\"url\" target=\"_blank\"><span itemprop=\"addressLocality\"><strong>Anekal City</strong></span>, <span class=\"cityName\" itemprop=\"addressRegion\">Bangalore</span></a></span></span></span></div></div></div><table class=\"listing-highlights\"><thead><tr><td colspan=\"2\">Specifications</td></tr></thead><tbody><tr class=\"chevron-wrap\" title=\"see this property details\"><td colspan=\"2\"><i class=\"icon-link\"></i></td></tr><tr class=\"hcol\"><td class=\"price\"><div data-type=\"price-link\"><sup class=\"rupee currency\"> </sup><span class=\"val\" itemprop=\"offers\" itemscope=\"\" itemtype=\"http://schema.org/Offer\"><meta content=\"https://www.makaan.com/bangalore/rbd-shelters-meadows-1-in-anekal-city-14173469/835-sqft-plot\" itemprop=\"url\"/><meta content=\"1500495 \" itemprop=\"price\"/><meta content=\"INR\" itemprop=\"priceCurrency\"/>15</span><span class=\"unit\"> L</span></div></td><td class=\"lbl rate\">1,797 / sq ft</td></tr><tr class=\"hcol\"><td class=\"size\"><span class=\"val\">835 </span></td><td class=\"lbl\">Area in sq ft</td></tr><tr class=\"hcol w44\"><td class=\"val\">New</td><td class=\"lbl\">New/Resale</td></tr></tbody></table><meta content=\"2021-06-03T04:19:48.000Z\" itemprop=\"startDate\"/><ul class=\"listing-details\"><li class=\"keypoint\" title=\"Possession by\"><span><strong><span>Possession by Oct 2022</span></strong></span></li></ul><div class=\"listing-description\" data-p9ignore=\"true\"><div class=\"txt\"><h3 class=\"seo-hdng\" title=\" Property for Sale in Anekal City Bangalore\"><span> Property for Sale in Anekal City Bangalore</span>:</h3>This plot is situated in RBD Shelters Meadows 1, Anekal City, Bangalore. It has an area of 835 sqft and is priced at Rs. 15.00 lac . The time you'll spend here will become the greatest moment of your ...<strong class=\"seo-hdng\">Developed by <a href=\"https://www.makaan.com/rbd-shelters-102855\">RBD Shelters</a></strong></div><a class=\"linktoprop\" data-type=\"read-more\">More</a></div><div class=\"btn-wrap\"><div class=\"btn-icons\"><span class=\"favbtn serpfavd\" data-id=\"14173469\" data-lazymodule=\"shortlist\" data-type=\"fav-btn\" id=\"shortlist-14173469\" title=\"shortlist this property\"><script type=\"text/x-config\">{\"listingId\":14173469,\"dataAwaited\": true}</script><i class=\"icon-makaan\"></i><i class=\"icon-makaanfill\"></i></span><span class=\"serpShare shareitem\" data-type=\"social-share\" data-url=\"https://www.makaan.com/bangalore/rbd-shelters-meadows-1-in-anekal-city-14173469/835-sqft-plot\" title=\"share\"><i class=\"icon-share\"></i></span></div><div class=\"callwrap\"><a class=\"txtbtn\" data-call-now=\"\" data-step=\"VIEW_PHONE_MORPHED\" data-type=\"openLeadFormViewPhone\">View Phone</a><a class=\"cbtn cbtn-p\" data-call-now=\"\" data-type=\"openLeadForm\"> Connect Now</a></div></div></div></div></div></li>"
      ]
     },
     "execution_count": 136,
     "metadata": {},
     "output_type": "execute_result"
    }
   ],
   "source": [
    "data = soup(r.text)\n",
    "house = data.find_all(\"li\", class_=\"cardholder\")\n",
    "first = house[0]\n",
    "first"
   ]
  },
  {
   "cell_type": "code",
   "execution_count": 137,
   "id": "594bc856",
   "metadata": {},
   "outputs": [
    {
     "data": {
      "text/plain": [
       "' 15 L'"
      ]
     },
     "execution_count": 137,
     "metadata": {},
     "output_type": "execute_result"
    }
   ],
   "source": [
    "price_first = first.find_all(\"td\", class_=\"price\")[0].text\n",
    "price_first"
   ]
  },
  {
   "cell_type": "code",
   "execution_count": 187,
   "id": "46a44f85",
   "metadata": {},
   "outputs": [],
   "source": [
    "title=[]\n",
    "location=[]\n",
    "area=[]\n",
    "builder=[]\n",
    "building_status=[]\n",
    "price=[]"
   ]
  },
  {
   "cell_type": "code",
   "execution_count": 188,
   "id": "6ae6145e",
   "metadata": {},
   "outputs": [],
   "source": [
    "#n=0\n",
    "# starting from page 3 to 100 (url changes as per the page number from the third page)\n",
    "for currPage in range(3,800):\n",
    "    currPage=currPage+1\n",
    "    url='https://www.makaan.com/bangalore-residential-property/buy-property-in-bangalore-city?page='+str(currPage)\n",
    "    response=requests.get(url)\n",
    "    page=soup(response.text, 'html.parser')\n",
    "    # this will fetch all the info we need of a particular house in house_data\n",
    "    house_data=data.find_all(\"li\", class_=\"cardholder\")\n",
    "    \n",
    "    # now for every element of house_data, we find the properties\n",
    "    for house in house_data:\n",
    "        typeOfHouse=house.find_all(\"a\", class_=\"typelink\")\n",
    "        for i in typeOfHouse:\n",
    "            x=i.text\n",
    "            title.append(x)\n",
    "            \n",
    "            \n",
    "            \n",
    "        loc=house.find_all(\"a\", class_=\"loclink\")\n",
    "        for i in loc:\n",
    "            x=i.text\n",
    "            x=x.split(',',)[0] # to get rid of \"Bangalore\" at the end of each location name\n",
    "            location.append(x)\n",
    "        \n",
    "        \n",
    "        \n",
    "        area_sqft=house.find_all(\"td\", class_=\"size\")\n",
    "        for i in area_sqft:\n",
    "            x=i.text\n",
    "            area.append(x)\n",
    "            \n",
    "        \n",
    "        b=house.find_all(\"a\", class_=\"seller-name\")\n",
    "        for i in b:\n",
    "            x=i.text\n",
    "            builder.append(x)\n",
    "            \n",
    "        \n",
    "        \n",
    "        cost=house.find_all(\"td\", class_=\"price\")\n",
    "        for i in cost:\n",
    "            x=i.text\n",
    "            if 'L' in x:\n",
    "                x1=x.split()[0]\n",
    "                price.append(float(x1)) \n",
    "            elif 'Cr' in x:\n",
    "                x2=x.split()[0]\n",
    "                price.append(float(x2) * 100) \n",
    "            \n",
    "            \n",
    "            \n",
    "        s=house.find_all(\"td\", class_=\"val\")\n",
    "        for i in s:\n",
    "            x=i.text\n",
    "            building_status.append(x)"
   ]
  },
  {
   "cell_type": "code",
   "execution_count": 189,
   "id": "473dac49",
   "metadata": {},
   "outputs": [],
   "source": [
    "df=pd.DataFrame()"
   ]
  },
  {
   "cell_type": "code",
   "execution_count": 190,
   "id": "46ac2946",
   "metadata": {},
   "outputs": [],
   "source": [
    "df['Title']=title \n",
    "df['Location']=location\n",
    "df['Area Per Sqft']=area\n",
    "df['Builder']=builder\n",
    "df['Status']=building_status\n",
    "df['Price in Lakhs']=price\n"
   ]
  },
  {
   "cell_type": "code",
   "execution_count": 191,
   "id": "23f1cff8",
   "metadata": {},
   "outputs": [],
   "source": [
    "housingCSV=df.to_csv(\"bangalore_housing_final.csv\")"
   ]
  },
  {
   "cell_type": "code",
   "execution_count": 192,
   "id": "ca6ca782",
   "metadata": {},
   "outputs": [],
   "source": [
    "houseData=pd.read_csv(\"bangalore_housing_final.csv\")"
   ]
  },
  {
   "cell_type": "code",
   "execution_count": 193,
   "id": "eee9bb92",
   "metadata": {},
   "outputs": [
    {
     "data": {
      "text/html": [
       "<div>\n",
       "<style scoped>\n",
       "    .dataframe tbody tr th:only-of-type {\n",
       "        vertical-align: middle;\n",
       "    }\n",
       "\n",
       "    .dataframe tbody tr th {\n",
       "        vertical-align: top;\n",
       "    }\n",
       "\n",
       "    .dataframe thead th {\n",
       "        text-align: right;\n",
       "    }\n",
       "</style>\n",
       "<table border=\"1\" class=\"dataframe\">\n",
       "  <thead>\n",
       "    <tr style=\"text-align: right;\">\n",
       "      <th></th>\n",
       "      <th>Unnamed: 0</th>\n",
       "      <th>Title</th>\n",
       "      <th>Location</th>\n",
       "      <th>Area Per Sqft</th>\n",
       "      <th>Builder</th>\n",
       "      <th>Status</th>\n",
       "      <th>Price in Lakhs</th>\n",
       "    </tr>\n",
       "  </thead>\n",
       "  <tbody>\n",
       "    <tr>\n",
       "      <th>0</th>\n",
       "      <td>0</td>\n",
       "      <td>Residential Plot</td>\n",
       "      <td>Anekal City</td>\n",
       "      <td>835</td>\n",
       "      <td>RBD Shelters</td>\n",
       "      <td>New</td>\n",
       "      <td>15.00</td>\n",
       "    </tr>\n",
       "    <tr>\n",
       "      <th>1</th>\n",
       "      <td>1</td>\n",
       "      <td>1 BHK Apartment</td>\n",
       "      <td>Brookefield</td>\n",
       "      <td>739</td>\n",
       "      <td>Raja Housing</td>\n",
       "      <td>Under Construction</td>\n",
       "      <td>50.44</td>\n",
       "    </tr>\n",
       "    <tr>\n",
       "      <th>2</th>\n",
       "      <td>2</td>\n",
       "      <td>2 BHK Apartment</td>\n",
       "      <td>Electronic City Phase 1</td>\n",
       "      <td>1032</td>\n",
       "      <td>DS-MAX Properties</td>\n",
       "      <td>Under Construction</td>\n",
       "      <td>30.96</td>\n",
       "    </tr>\n",
       "    <tr>\n",
       "      <th>3</th>\n",
       "      <td>3</td>\n",
       "      <td>3 BHK Apartment</td>\n",
       "      <td>Krishnarajapura</td>\n",
       "      <td>1833</td>\n",
       "      <td>Togetherments Infra Pvt Ltd</td>\n",
       "      <td>Under Construction</td>\n",
       "      <td>128.00</td>\n",
       "    </tr>\n",
       "    <tr>\n",
       "      <th>4</th>\n",
       "      <td>4</td>\n",
       "      <td>2 BHK Apartment</td>\n",
       "      <td>Whitefield Hope Farm Junction</td>\n",
       "      <td>1238</td>\n",
       "      <td>SBB Group</td>\n",
       "      <td>Under Construction</td>\n",
       "      <td>75.84</td>\n",
       "    </tr>\n",
       "  </tbody>\n",
       "</table>\n",
       "</div>"
      ],
      "text/plain": [
       "   Unnamed: 0             Title                       Location  Area Per Sqft  \\\n",
       "0           0  Residential Plot                    Anekal City            835   \n",
       "1           1   1 BHK Apartment                    Brookefield            739   \n",
       "2           2   2 BHK Apartment        Electronic City Phase 1           1032   \n",
       "3           3   3 BHK Apartment                Krishnarajapura           1833   \n",
       "4           4   2 BHK Apartment  Whitefield Hope Farm Junction           1238   \n",
       "\n",
       "                       Builder              Status  Price in Lakhs  \n",
       "0                 RBD Shelters                 New           15.00  \n",
       "1                 Raja Housing  Under Construction           50.44  \n",
       "2            DS-MAX Properties  Under Construction           30.96  \n",
       "3  Togetherments Infra Pvt Ltd  Under Construction          128.00  \n",
       "4                    SBB Group  Under Construction           75.84  "
      ]
     },
     "execution_count": 193,
     "metadata": {},
     "output_type": "execute_result"
    }
   ],
   "source": [
    "houseData.head(5)"
   ]
  },
  {
   "cell_type": "code",
   "execution_count": 194,
   "id": "bccc0c8b",
   "metadata": {},
   "outputs": [
    {
     "data": {
      "text/plain": [
       "(15940, 7)"
      ]
     },
     "execution_count": 194,
     "metadata": {},
     "output_type": "execute_result"
    }
   ],
   "source": [
    "houseData.shape"
   ]
  },
  {
   "cell_type": "code",
   "execution_count": 195,
   "id": "483c3596",
   "metadata": {},
   "outputs": [
    {
     "data": {
      "text/html": [
       "<div>\n",
       "<style scoped>\n",
       "    .dataframe tbody tr th:only-of-type {\n",
       "        vertical-align: middle;\n",
       "    }\n",
       "\n",
       "    .dataframe tbody tr th {\n",
       "        vertical-align: top;\n",
       "    }\n",
       "\n",
       "    .dataframe thead th {\n",
       "        text-align: right;\n",
       "    }\n",
       "</style>\n",
       "<table border=\"1\" class=\"dataframe\">\n",
       "  <thead>\n",
       "    <tr style=\"text-align: right;\">\n",
       "      <th></th>\n",
       "      <th>Title</th>\n",
       "      <th>Location</th>\n",
       "      <th>Area Per Sqft</th>\n",
       "      <th>Builder</th>\n",
       "      <th>Status</th>\n",
       "      <th>Price in Lakhs</th>\n",
       "    </tr>\n",
       "  </thead>\n",
       "  <tbody>\n",
       "    <tr>\n",
       "      <th>0</th>\n",
       "      <td>Residential Plot</td>\n",
       "      <td>Anekal City</td>\n",
       "      <td>835</td>\n",
       "      <td>RBD Shelters</td>\n",
       "      <td>New</td>\n",
       "      <td>15.00</td>\n",
       "    </tr>\n",
       "    <tr>\n",
       "      <th>1</th>\n",
       "      <td>1 BHK Apartment</td>\n",
       "      <td>Brookefield</td>\n",
       "      <td>739</td>\n",
       "      <td>Raja Housing</td>\n",
       "      <td>Under Construction</td>\n",
       "      <td>50.44</td>\n",
       "    </tr>\n",
       "    <tr>\n",
       "      <th>2</th>\n",
       "      <td>2 BHK Apartment</td>\n",
       "      <td>Electronic City Phase 1</td>\n",
       "      <td>1032</td>\n",
       "      <td>DS-MAX Properties</td>\n",
       "      <td>Under Construction</td>\n",
       "      <td>30.96</td>\n",
       "    </tr>\n",
       "    <tr>\n",
       "      <th>3</th>\n",
       "      <td>3 BHK Apartment</td>\n",
       "      <td>Krishnarajapura</td>\n",
       "      <td>1833</td>\n",
       "      <td>Togetherments Infra Pvt Ltd</td>\n",
       "      <td>Under Construction</td>\n",
       "      <td>128.00</td>\n",
       "    </tr>\n",
       "    <tr>\n",
       "      <th>4</th>\n",
       "      <td>2 BHK Apartment</td>\n",
       "      <td>Whitefield Hope Farm Junction</td>\n",
       "      <td>1238</td>\n",
       "      <td>SBB Group</td>\n",
       "      <td>Under Construction</td>\n",
       "      <td>75.84</td>\n",
       "    </tr>\n",
       "  </tbody>\n",
       "</table>\n",
       "</div>"
      ],
      "text/plain": [
       "              Title                       Location  Area Per Sqft  \\\n",
       "0  Residential Plot                    Anekal City            835   \n",
       "1   1 BHK Apartment                    Brookefield            739   \n",
       "2   2 BHK Apartment        Electronic City Phase 1           1032   \n",
       "3   3 BHK Apartment                Krishnarajapura           1833   \n",
       "4   2 BHK Apartment  Whitefield Hope Farm Junction           1238   \n",
       "\n",
       "                       Builder              Status  Price in Lakhs  \n",
       "0                 RBD Shelters                 New           15.00  \n",
       "1                 Raja Housing  Under Construction           50.44  \n",
       "2            DS-MAX Properties  Under Construction           30.96  \n",
       "3  Togetherments Infra Pvt Ltd  Under Construction          128.00  \n",
       "4                    SBB Group  Under Construction           75.84  "
      ]
     },
     "execution_count": 195,
     "metadata": {},
     "output_type": "execute_result"
    }
   ],
   "source": [
    "houseData.drop(columns='Unnamed: 0',axis=1,inplace=True)\n",
    "houseData.head(5)"
   ]
  },
  {
   "cell_type": "code",
   "execution_count": 196,
   "id": "acf5241d",
   "metadata": {},
   "outputs": [
    {
     "data": {
      "text/html": [
       "<div>\n",
       "<style scoped>\n",
       "    .dataframe tbody tr th:only-of-type {\n",
       "        vertical-align: middle;\n",
       "    }\n",
       "\n",
       "    .dataframe tbody tr th {\n",
       "        vertical-align: top;\n",
       "    }\n",
       "\n",
       "    .dataframe thead th {\n",
       "        text-align: right;\n",
       "    }\n",
       "</style>\n",
       "<table border=\"1\" class=\"dataframe\">\n",
       "  <thead>\n",
       "    <tr style=\"text-align: right;\">\n",
       "      <th></th>\n",
       "      <th>Area Per Sqft</th>\n",
       "      <th>Price in Lakhs</th>\n",
       "    </tr>\n",
       "  </thead>\n",
       "  <tbody>\n",
       "    <tr>\n",
       "      <th>count</th>\n",
       "      <td>15940.000000</td>\n",
       "      <td>15940.000000</td>\n",
       "    </tr>\n",
       "    <tr>\n",
       "      <th>mean</th>\n",
       "      <td>1728.500000</td>\n",
       "      <td>96.533000</td>\n",
       "    </tr>\n",
       "    <tr>\n",
       "      <th>std</th>\n",
       "      <td>980.326956</td>\n",
       "      <td>71.521328</td>\n",
       "    </tr>\n",
       "    <tr>\n",
       "      <th>min</th>\n",
       "      <td>739.000000</td>\n",
       "      <td>15.000000</td>\n",
       "    </tr>\n",
       "    <tr>\n",
       "      <th>25%</th>\n",
       "      <td>953.250000</td>\n",
       "      <td>42.095000</td>\n",
       "    </tr>\n",
       "    <tr>\n",
       "      <th>50%</th>\n",
       "      <td>1455.000000</td>\n",
       "      <td>69.265000</td>\n",
       "    </tr>\n",
       "    <tr>\n",
       "      <th>75%</th>\n",
       "      <td>2331.250000</td>\n",
       "      <td>132.000000</td>\n",
       "    </tr>\n",
       "    <tr>\n",
       "      <th>max</th>\n",
       "      <td>4000.000000</td>\n",
       "      <td>288.000000</td>\n",
       "    </tr>\n",
       "  </tbody>\n",
       "</table>\n",
       "</div>"
      ],
      "text/plain": [
       "       Area Per Sqft  Price in Lakhs\n",
       "count   15940.000000    15940.000000\n",
       "mean     1728.500000       96.533000\n",
       "std       980.326956       71.521328\n",
       "min       739.000000       15.000000\n",
       "25%       953.250000       42.095000\n",
       "50%      1455.000000       69.265000\n",
       "75%      2331.250000      132.000000\n",
       "max      4000.000000      288.000000"
      ]
     },
     "execution_count": 196,
     "metadata": {},
     "output_type": "execute_result"
    }
   ],
   "source": [
    "houseData.describe()"
   ]
  },
  {
   "cell_type": "code",
   "execution_count": 199,
   "id": "36f27f38",
   "metadata": {},
   "outputs": [],
   "source": []
  },
  {
   "cell_type": "code",
   "execution_count": null,
   "id": "adb7b2ba",
   "metadata": {},
   "outputs": [],
   "source": []
  }
 ],
 "metadata": {
  "kernelspec": {
   "display_name": "Python 3",
   "language": "python",
   "name": "python3"
  },
  "language_info": {
   "codemirror_mode": {
    "name": "ipython",
    "version": 3
   },
   "file_extension": ".py",
   "mimetype": "text/x-python",
   "name": "python",
   "nbconvert_exporter": "python",
   "pygments_lexer": "ipython3",
   "version": "3.7.1"
  }
 },
 "nbformat": 4,
 "nbformat_minor": 5
}
